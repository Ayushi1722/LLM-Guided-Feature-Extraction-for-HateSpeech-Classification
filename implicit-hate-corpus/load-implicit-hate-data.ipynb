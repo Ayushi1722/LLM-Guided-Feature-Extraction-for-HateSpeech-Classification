{
 "cells": [
  {
   "cell_type": "code",
   "execution_count": 1,
   "metadata": {},
   "outputs": [],
   "source": [
    "import pandas as pd"
   ]
  },
  {
   "cell_type": "code",
   "execution_count": 2,
   "metadata": {},
   "outputs": [],
   "source": [
    "df = pd.read_csv(\"implicit_hate_v1_stg1_posts.tsv\", delimiter='\\t')"
   ]
  },
  {
   "cell_type": "code",
   "execution_count": 3,
   "metadata": {},
   "outputs": [
    {
     "data": {
      "text/html": [
       "<div>\n",
       "<style scoped>\n",
       "    .dataframe tbody tr th:only-of-type {\n",
       "        vertical-align: middle;\n",
       "    }\n",
       "\n",
       "    .dataframe tbody tr th {\n",
       "        vertical-align: top;\n",
       "    }\n",
       "\n",
       "    .dataframe thead th {\n",
       "        text-align: right;\n",
       "    }\n",
       "</style>\n",
       "<table border=\"1\" class=\"dataframe\">\n",
       "  <thead>\n",
       "    <tr style=\"text-align: right;\">\n",
       "      <th></th>\n",
       "      <th>post</th>\n",
       "      <th>class</th>\n",
       "    </tr>\n",
       "  </thead>\n",
       "  <tbody>\n",
       "    <tr>\n",
       "      <th>0</th>\n",
       "      <td>\" : jewish harvard professor noel ignatiev w...</td>\n",
       "      <td>implicit_hate</td>\n",
       "    </tr>\n",
       "    <tr>\n",
       "      <th>1</th>\n",
       "      <td>b.higher education is a part of european cult...</td>\n",
       "      <td>not_hate</td>\n",
       "    </tr>\n",
       "    <tr>\n",
       "      <th>2</th>\n",
       "      <td>has a problem with  \" the whites \" \" and \" \" ...</td>\n",
       "      <td>not_hate</td>\n",
       "    </tr>\n",
       "    <tr>\n",
       "      <th>3</th>\n",
       "      <td>is yasir qadhi a hate preacher for calling ch...</td>\n",
       "      <td>not_hate</td>\n",
       "    </tr>\n",
       "    <tr>\n",
       "      <th>4</th>\n",
       "      <td>rt  \" : how three million germans mass murder...</td>\n",
       "      <td>not_hate</td>\n",
       "    </tr>\n",
       "  </tbody>\n",
       "</table>\n",
       "</div>"
      ],
      "text/plain": [
       "                                                post          class\n",
       "0    \" : jewish harvard professor noel ignatiev w...  implicit_hate\n",
       "1   b.higher education is a part of european cult...       not_hate\n",
       "2   has a problem with  \" the whites \" \" and \" \" ...       not_hate\n",
       "3   is yasir qadhi a hate preacher for calling ch...       not_hate\n",
       "4   rt  \" : how three million germans mass murder...       not_hate"
      ]
     },
     "execution_count": 3,
     "metadata": {},
     "output_type": "execute_result"
    }
   ],
   "source": [
    "df.head()"
   ]
  },
  {
   "cell_type": "code",
   "execution_count": 5,
   "metadata": {},
   "outputs": [
    {
     "data": {
      "text/plain": [
       "array(['implicit_hate', 'not_hate', 'explicit_hate'], dtype=object)"
      ]
     },
     "execution_count": 5,
     "metadata": {},
     "output_type": "execute_result"
    }
   ],
   "source": [
    "unique_values = df['class'].unique()\n",
    "unique_values"
   ]
  },
  {
   "cell_type": "markdown",
   "metadata": {},
   "source": [
    "### Additional experiment (only if time permits!) to compare goodness of human provided explanations vs LLM-generated ones.\n",
    "\n",
    "1. train one concatenated_model with the following data, where 'implied_statement' should be used as the 'Rationale' in the BERT model. \n",
    "2. get rationales from ChatGPT, and train another concatenated model with the ChatGPT extracted rationales and compare test performance"
   ]
  },
  {
   "cell_type": "code",
   "execution_count": 6,
   "metadata": {},
   "outputs": [
    {
     "data": {
      "text/html": [
       "<div>\n",
       "<style scoped>\n",
       "    .dataframe tbody tr th:only-of-type {\n",
       "        vertical-align: middle;\n",
       "    }\n",
       "\n",
       "    .dataframe tbody tr th {\n",
       "        vertical-align: top;\n",
       "    }\n",
       "\n",
       "    .dataframe thead th {\n",
       "        text-align: right;\n",
       "    }\n",
       "</style>\n",
       "<table border=\"1\" class=\"dataframe\">\n",
       "  <thead>\n",
       "    <tr style=\"text-align: right;\">\n",
       "      <th></th>\n",
       "      <th>post</th>\n",
       "      <th>target</th>\n",
       "      <th>implied_statement</th>\n",
       "    </tr>\n",
       "  </thead>\n",
       "  <tbody>\n",
       "    <tr>\n",
       "      <th>0</th>\n",
       "      <td>rt  \" white privilege \" \" is when the gun jam...</td>\n",
       "      <td>minority groups</td>\n",
       "      <td>people in minority groups are all in gangs</td>\n",
       "    </tr>\n",
       "    <tr>\n",
       "      <th>1</th>\n",
       "      <td>if you are white in that state watch yourself !</td>\n",
       "      <td>non-white people</td>\n",
       "      <td>non-white people are dangerous</td>\n",
       "    </tr>\n",
       "    <tr>\n",
       "      <th>2</th>\n",
       "      <td>so the 500 % increase in h1b visas ? yeah i'm ...</td>\n",
       "      <td>Immigrants</td>\n",
       "      <td>Immigrants are undesirable</td>\n",
       "    </tr>\n",
       "    <tr>\n",
       "      <th>3</th>\n",
       "      <td>rt antiwhites expose their hatred of white ki...</td>\n",
       "      <td>Anti-whites</td>\n",
       "      <td>Anti-whites hate white people</td>\n",
       "    </tr>\n",
       "    <tr>\n",
       "      <th>4</th>\n",
       "      <td>capitalism  like communism  is an enemy of the...</td>\n",
       "      <td>Capitalists</td>\n",
       "      <td>Capitalists don't like white people.</td>\n",
       "    </tr>\n",
       "  </tbody>\n",
       "</table>\n",
       "</div>"
      ],
      "text/plain": [
       "                                                post            target  \\\n",
       "0   rt  \" white privilege \" \" is when the gun jam...   minority groups   \n",
       "1    if you are white in that state watch yourself !  non-white people   \n",
       "2  so the 500 % increase in h1b visas ? yeah i'm ...        Immigrants   \n",
       "3   rt antiwhites expose their hatred of white ki...       Anti-whites   \n",
       "4  capitalism  like communism  is an enemy of the...       Capitalists   \n",
       "\n",
       "                            implied_statement  \n",
       "0  people in minority groups are all in gangs  \n",
       "1              non-white people are dangerous  \n",
       "2                  Immigrants are undesirable  \n",
       "3               Anti-whites hate white people  \n",
       "4        Capitalists don't like white people.  "
      ]
     },
     "execution_count": 6,
     "metadata": {},
     "output_type": "execute_result"
    }
   ],
   "source": [
    "df2 = pd.read_csv(\"implicit_hate_v1_stg3_posts.tsv\", delimiter='\\t')\n",
    "df2.head()"
   ]
  },
  {
   "cell_type": "code",
   "execution_count": 7,
   "metadata": {},
   "outputs": [
    {
     "data": {
      "text/plain": [
       "6359"
      ]
     },
     "execution_count": 7,
     "metadata": {},
     "output_type": "execute_result"
    }
   ],
   "source": [
    "len(df2)"
   ]
  },
  {
   "cell_type": "code",
   "execution_count": 8,
   "metadata": {},
   "outputs": [
    {
     "data": {
      "text/plain": [
       "21480"
      ]
     },
     "execution_count": 8,
     "metadata": {},
     "output_type": "execute_result"
    }
   ],
   "source": [
    "len(df)"
   ]
  },
  {
   "cell_type": "code",
   "execution_count": null,
   "metadata": {},
   "outputs": [],
   "source": []
  }
 ],
 "metadata": {
  "kernelspec": {
   "display_name": "Python [conda env:contrastive]",
   "language": "python",
   "name": "conda-env-contrastive-py"
  },
  "language_info": {
   "codemirror_mode": {
    "name": "ipython",
    "version": 3
   },
   "file_extension": ".py",
   "mimetype": "text/x-python",
   "name": "python",
   "nbconvert_exporter": "python",
   "pygments_lexer": "ipython3",
   "version": "3.6.13"
  }
 },
 "nbformat": 4,
 "nbformat_minor": 4
}
