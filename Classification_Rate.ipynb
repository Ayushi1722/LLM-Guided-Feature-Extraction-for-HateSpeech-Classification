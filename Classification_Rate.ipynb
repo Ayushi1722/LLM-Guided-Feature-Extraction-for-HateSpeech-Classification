{
  "nbformat": 4,
  "nbformat_minor": 0,
  "metadata": {
    "colab": {
      "provenance": []
    },
    "kernelspec": {
      "name": "python3",
      "display_name": "Python 3"
    },
    "language_info": {
      "name": "python"
    }
  },
  "cells": [
    {
      "cell_type": "code",
      "execution_count": 1,
      "metadata": {
        "id": "6bEyWQiOl6y4"
      },
      "outputs": [],
      "source": [
        "import pandas as pd\n",
        "import numpy as np"
      ]
    },
    {
      "cell_type": "code",
      "source": [
        "# file_loc = 'gab_dataset_llm_classification.csv'\n",
        "# file_loc = 'youtube_dataset_llm_classification.csv'\n",
        "# file_loc = 'twitter_dataset_llm_classification.csv'\n",
        "# file_loc = 'reddit_dataset_llm_classification.csv'\n",
        "file_loc = 'implicit_dataset_llm_classification.csv'\n",
        "dataset = pd.read_csv(file_loc)\n",
        "# dataset"
      ],
      "metadata": {
        "id": "cB0jeTycmCl1"
      },
      "execution_count": 2,
      "outputs": []
    },
    {
      "cell_type": "code",
      "source": [
        "col_actual = 'label'\n",
        "col_predicted = 'Generated_Label'\n",
        "\n",
        "dataset[col_predicted] = pd.to_numeric(dataset[col_predicted], errors='coerce')\n",
        "\n",
        "dataset = dataset.dropna(subset=[col_actual, col_predicted])\n",
        "dataset[col_predicted] = dataset[col_predicted].astype(np.int64)\n",
        "\n",
        "misclassified_count = 0\n",
        "total_count = len(dataset)\n",
        "\n",
        "for idx, row in dataset.iterrows():\n",
        "    if row[col_actual] != row[col_predicted]:\n",
        "        misclassified_count += 1\n",
        "\n",
        "misclassification_rate = misclassified_count / total_count\n",
        "accuracy = 1- misclassification_rate\n",
        "print(f'Misclassification Rate: {misclassification_rate}')\n",
        "print(f'Accuracy: {accuracy}')"
      ],
      "metadata": {
        "colab": {
          "base_uri": "https://localhost:8080/"
        },
        "id": "d2qjhYE1pk6X",
        "outputId": "3717a59e-0b4d-40ed-fa19-f0d87675c98c"
      },
      "execution_count": 3,
      "outputs": [
        {
          "output_type": "stream",
          "name": "stderr",
          "text": [
            "<ipython-input-3-62bc19f4c6bc>:7: SettingWithCopyWarning: \n",
            "A value is trying to be set on a copy of a slice from a DataFrame.\n",
            "Try using .loc[row_indexer,col_indexer] = value instead\n",
            "\n",
            "See the caveats in the documentation: https://pandas.pydata.org/pandas-docs/stable/user_guide/indexing.html#returning-a-view-versus-a-copy\n",
            "  dataset[col_predicted] = dataset[col_predicted].astype(np.int64)\n"
          ]
        },
        {
          "output_type": "stream",
          "name": "stdout",
          "text": [
            "Misclassification Rate: 0.3431949759591797\n",
            "Accuracy: 0.6568050240408203\n"
          ]
        }
      ]
    }
  ]
}